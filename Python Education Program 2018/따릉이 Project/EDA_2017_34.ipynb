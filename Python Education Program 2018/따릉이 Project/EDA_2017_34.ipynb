{
 "cells": [
  {
   "cell_type": "code",
   "execution_count": 2,
   "metadata": {},
   "outputs": [],
   "source": [
    "import pandas as pd\n",
    "from pandas import Series, DataFrame\n",
    "import matplotlib as plt\n",
    "import numpy as np\n",
    "plt.rcParams['font.family'].insert(0, 'AppleGothic')  #Malgun Gothic(Windows) -> AppleGothic(mac OS)\n",
    "%matplotlib inline"
   ]
  },
  {
   "cell_type": "markdown",
   "metadata": {},
   "source": [
    "## 2017년 3분기 데이터"
   ]
  },
  {
   "cell_type": "code",
   "execution_count": 3,
   "metadata": {
    "collapsed": true
   },
   "outputs": [],
   "source": [
    "rawdata_2017_3_1 = pd.read_csv(\"data/서울특별시 공공자전거 대여이력 정보_2017년_3분기_1.csv\", encoding = 'euc-kr')"
   ]
  },
  {
   "cell_type": "code",
   "execution_count": 4,
   "metadata": {},
   "outputs": [
    {
     "data": {
      "text/html": [
       "<div>\n",
       "<style scoped>\n",
       "    .dataframe tbody tr th:only-of-type {\n",
       "        vertical-align: middle;\n",
       "    }\n",
       "\n",
       "    .dataframe tbody tr th {\n",
       "        vertical-align: top;\n",
       "    }\n",
       "\n",
       "    .dataframe thead th {\n",
       "        text-align: right;\n",
       "    }\n",
       "</style>\n",
       "<table border=\"1\" class=\"dataframe\">\n",
       "  <thead>\n",
       "    <tr style=\"text-align: right;\">\n",
       "      <th></th>\n",
       "      <th>'자전거번호'</th>\n",
       "      <th>'대여일시'</th>\n",
       "      <th>'대여대여소번호'</th>\n",
       "      <th>'대여대여소'</th>\n",
       "      <th>'대여거치대'</th>\n",
       "      <th>'반납일시'</th>\n",
       "      <th>'반납대여소번호'</th>\n",
       "      <th>'반납대여소'</th>\n",
       "      <th>'반납거치대'</th>\n",
       "      <th>'이용시간(분)'</th>\n",
       "      <th>'이용거리(M)'</th>\n",
       "    </tr>\n",
       "  </thead>\n",
       "  <tbody>\n",
       "    <tr>\n",
       "      <th>0</th>\n",
       "      <td>'SPB-02618'</td>\n",
       "      <td>'2017-07-01 00:00:02'</td>\n",
       "      <td>'107'</td>\n",
       "      <td>' 신한은행 서교동금융센터점 앞'</td>\n",
       "      <td>2</td>\n",
       "      <td>'2017-07-01 00:37:38'</td>\n",
       "      <td>'407'</td>\n",
       "      <td>' 마포구 육아종합지원센터'</td>\n",
       "      <td>4</td>\n",
       "      <td>37</td>\n",
       "      <td>6120</td>\n",
       "    </tr>\n",
       "    <tr>\n",
       "      <th>1</th>\n",
       "      <td>'SPB-06616'</td>\n",
       "      <td>'2017-07-01 00:00:03'</td>\n",
       "      <td>'114'</td>\n",
       "      <td>' 홍대입구역 8번출구 앞'</td>\n",
       "      <td>5</td>\n",
       "      <td>'2017-07-01 00:24:07'</td>\n",
       "      <td>'115'</td>\n",
       "      <td>' 사루비아 빌딩 앞'</td>\n",
       "      <td>4</td>\n",
       "      <td>23</td>\n",
       "      <td>2410</td>\n",
       "    </tr>\n",
       "    <tr>\n",
       "      <th>2</th>\n",
       "      <td>'SPB-05091'</td>\n",
       "      <td>'2017-07-01 00:00:04'</td>\n",
       "      <td>'114'</td>\n",
       "      <td>' 홍대입구역 8번출구 앞'</td>\n",
       "      <td>6</td>\n",
       "      <td>'2017-07-01 00:24:35'</td>\n",
       "      <td>'115'</td>\n",
       "      <td>' 사루비아 빌딩 앞'</td>\n",
       "      <td>11</td>\n",
       "      <td>24</td>\n",
       "      <td>2410</td>\n",
       "    </tr>\n",
       "    <tr>\n",
       "      <th>3</th>\n",
       "      <td>'SPB-02735'</td>\n",
       "      <td>'2017-07-01 00:00:12'</td>\n",
       "      <td>'388'</td>\n",
       "      <td>' 동성중학교 앞'</td>\n",
       "      <td>2</td>\n",
       "      <td>'2017-07-01 00:48:53'</td>\n",
       "      <td>'1503'</td>\n",
       "      <td>' 이디야 커피 수유역점 앞'</td>\n",
       "      <td>12</td>\n",
       "      <td>48</td>\n",
       "      <td>8110</td>\n",
       "    </tr>\n",
       "    <tr>\n",
       "      <th>4</th>\n",
       "      <td>'SPB-04557'</td>\n",
       "      <td>'2017-07-01 00:00:21'</td>\n",
       "      <td>'506'</td>\n",
       "      <td>' 금호 어울림 아파트 앞'</td>\n",
       "      <td>1</td>\n",
       "      <td>'2017-07-01 00:35:25'</td>\n",
       "      <td>'640'</td>\n",
       "      <td>' KEB하나은행 청량리역지점'</td>\n",
       "      <td>5</td>\n",
       "      <td>34</td>\n",
       "      <td>7440</td>\n",
       "    </tr>\n",
       "  </tbody>\n",
       "</table>\n",
       "</div>"
      ],
      "text/plain": [
       "       '자전거번호'                 '대여일시' '대여대여소번호'             '대여대여소'  '대여거치대'  \\\n",
       "0  'SPB-02618'  '2017-07-01 00:00:02'     '107'  ' 신한은행 서교동금융센터점 앞'        2   \n",
       "1  'SPB-06616'  '2017-07-01 00:00:03'     '114'     ' 홍대입구역 8번출구 앞'        5   \n",
       "2  'SPB-05091'  '2017-07-01 00:00:04'     '114'     ' 홍대입구역 8번출구 앞'        6   \n",
       "3  'SPB-02735'  '2017-07-01 00:00:12'     '388'          ' 동성중학교 앞'        2   \n",
       "4  'SPB-04557'  '2017-07-01 00:00:21'     '506'     ' 금호 어울림 아파트 앞'        1   \n",
       "\n",
       "                  '반납일시' '반납대여소번호'            '반납대여소'  '반납거치대'  '이용시간(분)'  \\\n",
       "0  '2017-07-01 00:37:38'     '407'    ' 마포구 육아종합지원센터'        4         37   \n",
       "1  '2017-07-01 00:24:07'     '115'       ' 사루비아 빌딩 앞'        4         23   \n",
       "2  '2017-07-01 00:24:35'     '115'       ' 사루비아 빌딩 앞'       11         24   \n",
       "3  '2017-07-01 00:48:53'    '1503'   ' 이디야 커피 수유역점 앞'       12         48   \n",
       "4  '2017-07-01 00:35:25'     '640'  ' KEB하나은행 청량리역지점'        5         34   \n",
       "\n",
       "   '이용거리(M)'  \n",
       "0       6120  \n",
       "1       2410  \n",
       "2       2410  \n",
       "3       8110  \n",
       "4       7440  "
      ]
     },
     "execution_count": 4,
     "metadata": {},
     "output_type": "execute_result"
    }
   ],
   "source": [
    "rawdata_2017_3_1.head()"
   ]
  },
  {
   "cell_type": "code",
   "execution_count": 5,
   "metadata": {
    "collapsed": true
   },
   "outputs": [],
   "source": [
    "rawdata_2017_3_2 = pd.read_csv(\"data/서울특별시 공공자전거 대여이력 정보_2017년_3분기_2.csv\",\n",
    "                               encoding = 'euc-kr')"
   ]
  },
  {
   "cell_type": "code",
   "execution_count": 6,
   "metadata": {},
   "outputs": [
    {
     "data": {
      "text/html": [
       "<div>\n",
       "<style scoped>\n",
       "    .dataframe tbody tr th:only-of-type {\n",
       "        vertical-align: middle;\n",
       "    }\n",
       "\n",
       "    .dataframe tbody tr th {\n",
       "        vertical-align: top;\n",
       "    }\n",
       "\n",
       "    .dataframe thead th {\n",
       "        text-align: right;\n",
       "    }\n",
       "</style>\n",
       "<table border=\"1\" class=\"dataframe\">\n",
       "  <thead>\n",
       "    <tr style=\"text-align: right;\">\n",
       "      <th></th>\n",
       "      <th>'자전거번호'</th>\n",
       "      <th>'대여일시'</th>\n",
       "      <th>'대여대여소번호'</th>\n",
       "      <th>'대여대여소'</th>\n",
       "      <th>'대여거치대'</th>\n",
       "      <th>'반납일시'</th>\n",
       "      <th>'반납대여소번호'</th>\n",
       "      <th>'반납대여소'</th>\n",
       "      <th>'반납거치대'</th>\n",
       "      <th>'이용시간(분)'</th>\n",
       "      <th>'이용거리(M)'</th>\n",
       "    </tr>\n",
       "  </thead>\n",
       "  <tbody>\n",
       "    <tr>\n",
       "      <th>0</th>\n",
       "      <td>'SPB-11045'</td>\n",
       "      <td>'2017-09-01 00:00:02'</td>\n",
       "      <td>'198'</td>\n",
       "      <td>' 충정2교'</td>\n",
       "      <td>13</td>\n",
       "      <td>'2017-09-01 00:06:51'</td>\n",
       "      <td>'142'</td>\n",
       "      <td>' 아현역 4번출구 앞'</td>\n",
       "      <td>8</td>\n",
       "      <td>6</td>\n",
       "      <td>540</td>\n",
       "    </tr>\n",
       "    <tr>\n",
       "      <th>1</th>\n",
       "      <td>'SPB-02555'</td>\n",
       "      <td>'2017-09-01 00:00:06'</td>\n",
       "      <td>'501'</td>\n",
       "      <td>' 광진구의회 앞'</td>\n",
       "      <td>4</td>\n",
       "      <td>'2017-09-01 00:07:34'</td>\n",
       "      <td>'514'</td>\n",
       "      <td>' 성수사거리 버스정류장 앞'</td>\n",
       "      <td>5</td>\n",
       "      <td>7</td>\n",
       "      <td>1160</td>\n",
       "    </tr>\n",
       "    <tr>\n",
       "      <th>2</th>\n",
       "      <td>'SPB-01550'</td>\n",
       "      <td>'2017-09-01 00:00:10'</td>\n",
       "      <td>'247'</td>\n",
       "      <td>' 당산역 10번출구 앞'</td>\n",
       "      <td>4</td>\n",
       "      <td>'2017-09-01 00:03:35'</td>\n",
       "      <td>'244'</td>\n",
       "      <td>' 영등포삼환아파트 앞'</td>\n",
       "      <td>14</td>\n",
       "      <td>3</td>\n",
       "      <td>610</td>\n",
       "    </tr>\n",
       "    <tr>\n",
       "      <th>3</th>\n",
       "      <td>'SPB-07259'</td>\n",
       "      <td>'2017-09-01 00:00:15'</td>\n",
       "      <td>'159'</td>\n",
       "      <td>' 이대역 4번 출구'</td>\n",
       "      <td>3</td>\n",
       "      <td>'2017-09-01 00:25:03'</td>\n",
       "      <td>'110'</td>\n",
       "      <td>' 사천교'</td>\n",
       "      <td>2</td>\n",
       "      <td>24</td>\n",
       "      <td>3360</td>\n",
       "    </tr>\n",
       "    <tr>\n",
       "      <th>4</th>\n",
       "      <td>'SPB-04341'</td>\n",
       "      <td>'2017-09-01 00:00:27'</td>\n",
       "      <td>'152'</td>\n",
       "      <td>' 마포구민체육센터 앞'</td>\n",
       "      <td>28</td>\n",
       "      <td>'2017-09-01 00:50:10'</td>\n",
       "      <td>'176'</td>\n",
       "      <td>' 명지대학교 도서관'</td>\n",
       "      <td>2</td>\n",
       "      <td>49</td>\n",
       "      <td>6110</td>\n",
       "    </tr>\n",
       "  </tbody>\n",
       "</table>\n",
       "</div>"
      ],
      "text/plain": [
       "       '자전거번호'                 '대여일시' '대여대여소번호'         '대여대여소'  '대여거치대'  \\\n",
       "0  'SPB-11045'  '2017-09-01 00:00:02'     '198'         ' 충정2교'       13   \n",
       "1  'SPB-02555'  '2017-09-01 00:00:06'     '501'      ' 광진구의회 앞'        4   \n",
       "2  'SPB-01550'  '2017-09-01 00:00:10'     '247'  ' 당산역 10번출구 앞'        4   \n",
       "3  'SPB-07259'  '2017-09-01 00:00:15'     '159'    ' 이대역 4번 출구'        3   \n",
       "4  'SPB-04341'  '2017-09-01 00:00:27'     '152'   ' 마포구민체육센터 앞'       28   \n",
       "\n",
       "                  '반납일시' '반납대여소번호'           '반납대여소'  '반납거치대'  '이용시간(분)'  \\\n",
       "0  '2017-09-01 00:06:51'     '142'     ' 아현역 4번출구 앞'        8          6   \n",
       "1  '2017-09-01 00:07:34'     '514'  ' 성수사거리 버스정류장 앞'        5          7   \n",
       "2  '2017-09-01 00:03:35'     '244'     ' 영등포삼환아파트 앞'       14          3   \n",
       "3  '2017-09-01 00:25:03'     '110'            ' 사천교'        2         24   \n",
       "4  '2017-09-01 00:50:10'     '176'      ' 명지대학교 도서관'        2         49   \n",
       "\n",
       "   '이용거리(M)'  \n",
       "0        540  \n",
       "1       1160  \n",
       "2        610  \n",
       "3       3360  \n",
       "4       6110  "
      ]
     },
     "execution_count": 6,
     "metadata": {},
     "output_type": "execute_result"
    }
   ],
   "source": [
    "rawdata_2017_3_2.head()"
   ]
  },
  {
   "cell_type": "code",
   "execution_count": 7,
   "metadata": {
    "collapsed": true
   },
   "outputs": [],
   "source": [
    "rawdata_2017_3 = pd.concat([rawdata_2017_3_1, rawdata_2017_3_2], ignore_index=True)"
   ]
  },
  {
   "cell_type": "code",
   "execution_count": 8,
   "metadata": {},
   "outputs": [
    {
     "data": {
      "text/html": [
       "<div>\n",
       "<style scoped>\n",
       "    .dataframe tbody tr th:only-of-type {\n",
       "        vertical-align: middle;\n",
       "    }\n",
       "\n",
       "    .dataframe tbody tr th {\n",
       "        vertical-align: top;\n",
       "    }\n",
       "\n",
       "    .dataframe thead th {\n",
       "        text-align: right;\n",
       "    }\n",
       "</style>\n",
       "<table border=\"1\" class=\"dataframe\">\n",
       "  <thead>\n",
       "    <tr style=\"text-align: right;\">\n",
       "      <th></th>\n",
       "      <th>'자전거번호'</th>\n",
       "      <th>'대여일시'</th>\n",
       "      <th>'대여대여소번호'</th>\n",
       "      <th>'대여대여소'</th>\n",
       "      <th>'대여거치대'</th>\n",
       "      <th>'반납일시'</th>\n",
       "      <th>'반납대여소번호'</th>\n",
       "      <th>'반납대여소'</th>\n",
       "      <th>'반납거치대'</th>\n",
       "      <th>'이용시간(분)'</th>\n",
       "      <th>'이용거리(M)'</th>\n",
       "    </tr>\n",
       "  </thead>\n",
       "  <tbody>\n",
       "    <tr>\n",
       "      <th>1799435</th>\n",
       "      <td>'SPB-04205'</td>\n",
       "      <td>'2017-09-30 23:59:48'</td>\n",
       "      <td>'812'</td>\n",
       "      <td>' 용산전쟁기념관'</td>\n",
       "      <td>4</td>\n",
       "      <td>'2017-10-01 00:06:40'</td>\n",
       "      <td>'810'</td>\n",
       "      <td>' 이태원지하보도'</td>\n",
       "      <td>6</td>\n",
       "      <td>6</td>\n",
       "      <td>1150</td>\n",
       "    </tr>\n",
       "    <tr>\n",
       "      <th>1799436</th>\n",
       "      <td>'SPB-04274'</td>\n",
       "      <td>'2017-09-30 23:59:51'</td>\n",
       "      <td>'817'</td>\n",
       "      <td>' 삼각지역 4번출구 앞'</td>\n",
       "      <td>2</td>\n",
       "      <td>'2017-10-01 00:02:54'</td>\n",
       "      <td>'816'</td>\n",
       "      <td>' 신용산역 6번출구 앞'</td>\n",
       "      <td>6</td>\n",
       "      <td>2</td>\n",
       "      <td>480</td>\n",
       "    </tr>\n",
       "    <tr>\n",
       "      <th>1799437</th>\n",
       "      <td>'SPB-02452'</td>\n",
       "      <td>'2017-09-30 23:59:52'</td>\n",
       "      <td>'2128'</td>\n",
       "      <td>' 관악구청교차로'</td>\n",
       "      <td>12</td>\n",
       "      <td>'2017-10-01 00:10:18'</td>\n",
       "      <td>'2122'</td>\n",
       "      <td>' 낙성대로 입구'</td>\n",
       "      <td>14</td>\n",
       "      <td>10</td>\n",
       "      <td>1000</td>\n",
       "    </tr>\n",
       "    <tr>\n",
       "      <th>1799438</th>\n",
       "      <td>'SPB-00696'</td>\n",
       "      <td>'2017-09-30 23:59:57'</td>\n",
       "      <td>'913'</td>\n",
       "      <td>' 이마트 은평점'</td>\n",
       "      <td>5</td>\n",
       "      <td>'2017-10-01 00:18:01'</td>\n",
       "      <td>'916'</td>\n",
       "      <td>' 평생학습관 앞'</td>\n",
       "      <td>2</td>\n",
       "      <td>17</td>\n",
       "      <td>1470</td>\n",
       "    </tr>\n",
       "    <tr>\n",
       "      <th>1799439</th>\n",
       "      <td>'SPB-11454'</td>\n",
       "      <td>'2017-09-30 23:59:57'</td>\n",
       "      <td>'113'</td>\n",
       "      <td>' 홍대입구역 2번출구 앞'</td>\n",
       "      <td>18</td>\n",
       "      <td>'2017-10-01 00:59:46'</td>\n",
       "      <td>'911'</td>\n",
       "      <td>' 은평평화공원(역촌역4번출구)'</td>\n",
       "      <td>3</td>\n",
       "      <td>57</td>\n",
       "      <td>5160</td>\n",
       "    </tr>\n",
       "  </tbody>\n",
       "</table>\n",
       "</div>"
      ],
      "text/plain": [
       "             '자전거번호'                 '대여일시' '대여대여소번호'          '대여대여소'  \\\n",
       "1799435  'SPB-04205'  '2017-09-30 23:59:48'     '812'       ' 용산전쟁기념관'   \n",
       "1799436  'SPB-04274'  '2017-09-30 23:59:51'     '817'   ' 삼각지역 4번출구 앞'   \n",
       "1799437  'SPB-02452'  '2017-09-30 23:59:52'    '2128'       ' 관악구청교차로'   \n",
       "1799438  'SPB-00696'  '2017-09-30 23:59:57'     '913'       ' 이마트 은평점'   \n",
       "1799439  'SPB-11454'  '2017-09-30 23:59:57'     '113'  ' 홍대입구역 2번출구 앞'   \n",
       "\n",
       "         '대여거치대'                 '반납일시' '반납대여소번호'             '반납대여소'  \\\n",
       "1799435        4  '2017-10-01 00:06:40'     '810'          ' 이태원지하보도'   \n",
       "1799436        2  '2017-10-01 00:02:54'     '816'      ' 신용산역 6번출구 앞'   \n",
       "1799437       12  '2017-10-01 00:10:18'    '2122'          ' 낙성대로 입구'   \n",
       "1799438        5  '2017-10-01 00:18:01'     '916'          ' 평생학습관 앞'   \n",
       "1799439       18  '2017-10-01 00:59:46'     '911'  ' 은평평화공원(역촌역4번출구)'   \n",
       "\n",
       "         '반납거치대'  '이용시간(분)'  '이용거리(M)'  \n",
       "1799435        6          6       1150  \n",
       "1799436        6          2        480  \n",
       "1799437       14         10       1000  \n",
       "1799438        2         17       1470  \n",
       "1799439        3         57       5160  "
      ]
     },
     "execution_count": 8,
     "metadata": {},
     "output_type": "execute_result"
    }
   ],
   "source": [
    "rawdata_2017_3.tail()"
   ]
  },
  {
   "cell_type": "code",
   "execution_count": 9,
   "metadata": {},
   "outputs": [
    {
     "data": {
      "text/plain": [
       "'자전거번호'      object\n",
       "'대여일시'       object\n",
       "'대여대여소번호'    object\n",
       "'대여대여소'      object\n",
       "'대여거치대'       int64\n",
       "'반납일시'       object\n",
       "'반납대여소번호'    object\n",
       "'반납대여소'      object\n",
       "'반납거치대'       int64\n",
       "'이용시간(분)'     int64\n",
       "'이용거리(M)'     int64\n",
       "dtype: object"
      ]
     },
     "execution_count": 9,
     "metadata": {},
     "output_type": "execute_result"
    }
   ],
   "source": [
    "#데이터형\n",
    "rawdata_2017_3.dtypes"
   ]
  },
  {
   "cell_type": "code",
   "execution_count": 10,
   "metadata": {},
   "outputs": [
    {
     "data": {
      "text/plain": [
       "'자전거번호'      0\n",
       "'대여일시'       0\n",
       "'대여대여소번호'    0\n",
       "'대여대여소'      0\n",
       "'대여거치대'      0\n",
       "'반납일시'       0\n",
       "'반납대여소번호'    0\n",
       "'반납대여소'      0\n",
       "'반납거치대'      0\n",
       "'이용시간(분)'    0\n",
       "'이용거리(M)'    0\n",
       "dtype: int64"
      ]
     },
     "execution_count": 10,
     "metadata": {},
     "output_type": "execute_result"
    }
   ],
   "source": [
    "#데이터 null값 : 결측치\n",
    "rawdata_2017_3.isnull().sum()"
   ]
  },
  {
   "cell_type": "code",
   "execution_count": 11,
   "metadata": {},
   "outputs": [
    {
     "data": {
      "text/plain": [
       "count   $1.8e+06\n",
       "mean         $31\n",
       "std          $32\n",
       "min           $2\n",
       "25%           $9\n",
       "50%          $19\n",
       "75%          $43\n",
       "max     $2.1e+03\n",
       "Name: '이용시간(분)', dtype: float64"
      ]
     },
     "execution_count": 11,
     "metadata": {},
     "output_type": "execute_result"
    }
   ],
   "source": [
    "## pandas 출력 포맷팅\n",
    "pd.set_option('display.float_format', '${:.2g}'.format)  # 적당히 알아서\n",
    "# pd.set_option('display.float_format', None) 원래대로 돌리려면 None\n",
    "rawdata_2017_3[\"'이용시간(분)'\"].describe()"
   ]
  },
  {
   "cell_type": "code",
   "execution_count": 12,
   "metadata": {},
   "outputs": [
    {
     "data": {
      "text/plain": [
       "<matplotlib.axes._subplots.AxesSubplot at 0x12bb48f60>"
      ]
     },
     "execution_count": 12,
     "metadata": {},
     "output_type": "execute_result"
    },
    {
     "data": {
      "image/png": "[encoded data removed]",
      "text/plain": [
       "<Figure size 576x1440 with 1 Axes>"
      ]
     },
     "metadata": {},
     "output_type": "display_data"
    }
   ],
   "source": [
    "# 이상치 확인\n",
    "rawdata_2017_3[\"'이용시간(분)'\"].plot(kind = 'box', figsize = (8,20)) ## ??"
   ]
  },
  {
   "cell_type": "markdown",
   "metadata": {},
   "source": [
    "이걸 어떻게 해석하고 2000분 이상인건 어떻게 처리해야 할까?"
   ]
  },
  {
   "cell_type": "markdown",
   "metadata": {},
   "source": [
    "##### 대여횟수 많은 순서 TOP10"
   ]
  },
  {
   "cell_type": "code",
   "execution_count": 13,
   "metadata": {},
   "outputs": [
    {
     "data": {
      "text/html": [
       "<div>\n",
       "<style scoped>\n",
       "    .dataframe tbody tr th:only-of-type {\n",
       "        vertical-align: middle;\n",
       "    }\n",
       "\n",
       "    .dataframe tbody tr th {\n",
       "        vertical-align: top;\n",
       "    }\n",
       "\n",
       "    .dataframe thead th {\n",
       "        text-align: right;\n",
       "    }\n",
       "</style>\n",
       "<table border=\"1\" class=\"dataframe\">\n",
       "  <thead>\n",
       "    <tr style=\"text-align: right;\">\n",
       "      <th></th>\n",
       "      <th>'반납일시'</th>\n",
       "    </tr>\n",
       "    <tr>\n",
       "      <th>'대여대여소'</th>\n",
       "      <th></th>\n",
       "    </tr>\n",
       "  </thead>\n",
       "  <tbody>\n",
       "    <tr>\n",
       "      <th>' 여의나루역 1번출구 앞'</th>\n",
       "      <td>19321</td>\n",
       "    </tr>\n",
       "    <tr>\n",
       "      <th>' 뚝섬유원지역 1번출구 앞'</th>\n",
       "      <td>14052</td>\n",
       "    </tr>\n",
       "    <tr>\n",
       "      <th>' 홍대입구역 2번출구 앞'</th>\n",
       "      <td>13454</td>\n",
       "    </tr>\n",
       "    <tr>\n",
       "      <th>' 마포구민체육센터 앞'</th>\n",
       "      <td>9334</td>\n",
       "    </tr>\n",
       "    <tr>\n",
       "      <th>' 봉림교 교통섬'</th>\n",
       "      <td>7936</td>\n",
       "    </tr>\n",
       "    <tr>\n",
       "      <th>' 당산역 10번출구 앞'</th>\n",
       "      <td>7657</td>\n",
       "    </tr>\n",
       "    <tr>\n",
       "      <th>' 광진구의회 앞'</th>\n",
       "      <td>7612</td>\n",
       "    </tr>\n",
       "    <tr>\n",
       "      <th>' 고속터미널역 8-1번, 8-2번 출구 사이'</th>\n",
       "      <td>7592</td>\n",
       "    </tr>\n",
       "    <tr>\n",
       "      <th>' 군자역 7번출구 베스트샵 앞'</th>\n",
       "      <td>7543</td>\n",
       "    </tr>\n",
       "    <tr>\n",
       "      <th>' 신도림역 1번 출구 앞'</th>\n",
       "      <td>7430</td>\n",
       "    </tr>\n",
       "  </tbody>\n",
       "</table>\n",
       "</div>"
      ],
      "text/plain": [
       "                            '반납일시'\n",
       "'대여대여소'                           \n",
       "' 여의나루역 1번출구 앞'              19321\n",
       "' 뚝섬유원지역 1번출구 앞'             14052\n",
       "' 홍대입구역 2번출구 앞'              13454\n",
       "' 마포구민체육센터 앞'                 9334\n",
       "' 봉림교 교통섬'                    7936\n",
       "' 당산역 10번출구 앞'                7657\n",
       "' 광진구의회 앞'                    7612\n",
       "' 고속터미널역 8-1번, 8-2번 출구 사이'    7592\n",
       "' 군자역 7번출구 베스트샵 앞'            7543\n",
       "' 신도림역 1번 출구 앞'               7430"
      ]
     },
     "execution_count": 13,
     "metadata": {},
     "output_type": "execute_result"
    }
   ],
   "source": [
    "rawdata_2017_3.pivot_table(index = \"'대여대여소'\", values = \"'반납일시'\", aggfunc = 'count').sort_values(by = \"'반납일시'\", ascending = False).head(10)"
   ]
  },
  {
   "cell_type": "markdown",
   "metadata": {},
   "source": [
    "##### 시간대 변수 추가"
   ]
  },
  {
   "cell_type": "code",
   "execution_count": 91,
   "metadata": {
    "collapsed": true
   },
   "outputs": [],
   "source": [
    "#시간대 생성 함수\n",
    "def 시간대생성 (x):\n",
    "    if x < 10:\n",
    "        return '0분대'\n",
    "    elif x < 20:\n",
    "        return '10분대'\n",
    "    elif x < 30:\n",
    "        return '20분대'\n",
    "    elif x < 40:\n",
    "        return '30분대'\n",
    "    elif x < 50:\n",
    "        return '40분대'\n",
    "    elif x < 60:\n",
    "        return '50분대'\n",
    "    elif x < 70:\n",
    "        return '60분대'\n",
    "    elif x < 80:\n",
    "        return '70분대'\n",
    "    elif x < 90:\n",
    "        return '80분대'\n",
    "    elif x < 100:\n",
    "        return '90분대'\n",
    "    elif x < 110:\n",
    "        return '100분대'\n",
    "    elif x < 120:\n",
    "        return '110분대'\n",
    "    else:\n",
    "        return '2시간 이상'"
   ]
  },
  {
   "cell_type": "code",
   "execution_count": 60,
   "metadata": {
    "collapsed": true
   },
   "outputs": [],
   "source": [
    "rawdata_2017_3[\"'이용시간(분대)'\"] = rawdata_2017_3[\"'이용시간(분)'\"].apply(시간대생성)"
   ]
  },
  {
   "cell_type": "code",
   "execution_count": 63,
   "metadata": {},
   "outputs": [
    {
     "data": {
      "text/html": [
       "<div>\n",
       "<style scoped>\n",
       "    .dataframe tbody tr th:only-of-type {\n",
       "        vertical-align: middle;\n",
       "    }\n",
       "\n",
       "    .dataframe tbody tr th {\n",
       "        vertical-align: top;\n",
       "    }\n",
       "\n",
       "    .dataframe thead th {\n",
       "        text-align: right;\n",
       "    }\n",
       "</style>\n",
       "<table border=\"1\" class=\"dataframe\">\n",
       "  <thead>\n",
       "    <tr style=\"text-align: right;\">\n",
       "      <th></th>\n",
       "      <th>'자전거번호'</th>\n",
       "      <th>'대여일시'</th>\n",
       "      <th>'대여대여소번호'</th>\n",
       "      <th>'대여대여소'</th>\n",
       "      <th>'대여거치대'</th>\n",
       "      <th>'반납일시'</th>\n",
       "      <th>'반납대여소번호'</th>\n",
       "      <th>'반납대여소'</th>\n",
       "      <th>'반납거치대'</th>\n",
       "      <th>'이용시간(분)'</th>\n",
       "      <th>'이용거리(M)'</th>\n",
       "      <th>'이용시간(분대)'</th>\n",
       "    </tr>\n",
       "  </thead>\n",
       "  <tbody>\n",
       "    <tr>\n",
       "      <th>1378498</th>\n",
       "      <td>'SPB-12989'</td>\n",
       "      <td>'2017-09-17 17:16:04'</td>\n",
       "      <td>'559'</td>\n",
       "      <td>' 왕십리역 4번 출구 건너편'</td>\n",
       "      <td>4</td>\n",
       "      <td>'2017-09-17 17:53:48'</td>\n",
       "      <td>'346'</td>\n",
       "      <td>' 맥스타일 앞'</td>\n",
       "      <td>5</td>\n",
       "      <td>34</td>\n",
       "      <td>2620</td>\n",
       "      <td>30분대</td>\n",
       "    </tr>\n",
       "    <tr>\n",
       "      <th>953520</th>\n",
       "      <td>'SPB-07890'</td>\n",
       "      <td>'2017-09-02 11:39:05'</td>\n",
       "      <td>'1305'</td>\n",
       "      <td>' 성북구청'</td>\n",
       "      <td>1</td>\n",
       "      <td>'2017-09-02 11:52:04'</td>\n",
       "      <td>'358'</td>\n",
       "      <td>' 성대입구 사거리'</td>\n",
       "      <td>3</td>\n",
       "      <td>12</td>\n",
       "      <td>1540</td>\n",
       "      <td>10분대</td>\n",
       "    </tr>\n",
       "    <tr>\n",
       "      <th>187604</th>\n",
       "      <td>'SPB-04852'</td>\n",
       "      <td>'2017-07-18 20:54:04'</td>\n",
       "      <td>'1215'</td>\n",
       "      <td>' 올림픽공원역 1번출구 앞'</td>\n",
       "      <td>14</td>\n",
       "      <td>'2017-07-18 21:35:28'</td>\n",
       "      <td>'1201'</td>\n",
       "      <td>' 가락시장역 3번 출구'</td>\n",
       "      <td>2</td>\n",
       "      <td>41</td>\n",
       "      <td>6440</td>\n",
       "      <td>40분대</td>\n",
       "    </tr>\n",
       "    <tr>\n",
       "      <th>14519</th>\n",
       "      <td>'SPB-02922'</td>\n",
       "      <td>'2017-07-02 10:57:51'</td>\n",
       "      <td>'813'</td>\n",
       "      <td>' 삼각지역 3번출구'</td>\n",
       "      <td>12</td>\n",
       "      <td>'2017-07-02 11:15:47'</td>\n",
       "      <td>'312'</td>\n",
       "      <td>' 시청역 1번출구 뒤'</td>\n",
       "      <td>3</td>\n",
       "      <td>17</td>\n",
       "      <td>3930</td>\n",
       "      <td>10분대</td>\n",
       "    </tr>\n",
       "    <tr>\n",
       "      <th>475042</th>\n",
       "      <td>'SPB-06705'</td>\n",
       "      <td>'2017-08-06 18:39:18'</td>\n",
       "      <td>'1102'</td>\n",
       "      <td>' 방화사거리 마을버스 버스정류장'</td>\n",
       "      <td>1</td>\n",
       "      <td>'2017-08-06 19:24:58'</td>\n",
       "      <td>'1113'</td>\n",
       "      <td>' 서남환경공원 버스정류장'</td>\n",
       "      <td>1</td>\n",
       "      <td>45</td>\n",
       "      <td>2850</td>\n",
       "      <td>40분대</td>\n",
       "    </tr>\n",
       "  </tbody>\n",
       "</table>\n",
       "</div>"
      ],
      "text/plain": [
       "             '자전거번호'                 '대여일시' '대여대여소번호'              '대여대여소'  \\\n",
       "1378498  'SPB-12989'  '2017-09-17 17:16:04'     '559'    ' 왕십리역 4번 출구 건너편'   \n",
       "953520   'SPB-07890'  '2017-09-02 11:39:05'    '1305'              ' 성북구청'   \n",
       "187604   'SPB-04852'  '2017-07-18 20:54:04'    '1215'     ' 올림픽공원역 1번출구 앞'   \n",
       "14519    'SPB-02922'  '2017-07-02 10:57:51'     '813'         ' 삼각지역 3번출구'   \n",
       "475042   'SPB-06705'  '2017-08-06 18:39:18'    '1102'  ' 방화사거리 마을버스 버스정류장'   \n",
       "\n",
       "         '대여거치대'                 '반납일시' '반납대여소번호'          '반납대여소'  '반납거치대'  \\\n",
       "1378498        4  '2017-09-17 17:53:48'     '346'        ' 맥스타일 앞'        5   \n",
       "953520         1  '2017-09-02 11:52:04'     '358'      ' 성대입구 사거리'        3   \n",
       "187604        14  '2017-07-18 21:35:28'    '1201'   ' 가락시장역 3번 출구'        2   \n",
       "14519         12  '2017-07-02 11:15:47'     '312'    ' 시청역 1번출구 뒤'        3   \n",
       "475042         1  '2017-08-06 19:24:58'    '1113'  ' 서남환경공원 버스정류장'        1   \n",
       "\n",
       "         '이용시간(분)'  '이용거리(M)' '이용시간(분대)'  \n",
       "1378498         34       2620       30분대  \n",
       "953520          12       1540       10분대  \n",
       "187604          41       6440       40분대  \n",
       "14519           17       3930       10분대  \n",
       "475042          45       2850       40분대  "
      ]
     },
     "execution_count": 63,
     "metadata": {},
     "output_type": "execute_result"
    }
   ],
   "source": [
    "rawdata_2017_3.sample(5)"
   ]
  },
  {
   "cell_type": "code",
   "execution_count": 81,
   "metadata": {},
   "outputs": [
    {
     "data": {
      "text/plain": [
       "0분대       484518\n",
       "10분대      415421\n",
       "20분대      236219\n",
       "30분대      166571\n",
       "40분대      142793\n",
       "50분대      124170\n",
       "60분대       49229\n",
       "70분대       37471\n",
       "80분대       33577\n",
       "2시간 이상     30254\n",
       "90분대       29568\n",
       "100분대      27754\n",
       "110분대      21895\n",
       "Name: '이용시간(분대)', dtype: int64"
      ]
     },
     "execution_count": 81,
     "metadata": {},
     "output_type": "execute_result"
    }
   ],
   "source": [
    "rawdata_2017_3[\"'이용시간(분대)'\"].value_counts()"
   ]
  },
  {
   "cell_type": "code",
   "execution_count": 95,
   "metadata": {},
   "outputs": [
    {
     "data": {
      "text/plain": [
       "<matplotlib.axes._subplots.AxesSubplot at 0x1277aeba8>"
      ]
     },
     "execution_count": 95,
     "metadata": {},
     "output_type": "execute_result"
    },
    {
     "data": {
      "image/png": "[encoded data removed]",
      "text/plain": [
       "<Figure size 1080x576 with 1 Axes>"
      ]
     },
     "metadata": {},
     "output_type": "display_data"
    }
   ],
   "source": [
    "rawdata_2017_3[\"'이용시간(분대)'\"].value_counts().plot(kind = 'bar', figsize = (15,8))"
   ]
  },
  {
   "cell_type": "markdown",
   "metadata": {},
   "source": [
    "##### 대여일시(요일) 변수 추가"
   ]
  },
  {
   "cell_type": "code",
   "execution_count": 17,
   "metadata": {},
   "outputs": [
    {
     "data": {
      "text/plain": [
       "0    '2017-07-01 00:00:02'\n",
       "1    '2017-07-01 00:00:03'\n",
       "2    '2017-07-01 00:00:04'\n",
       "3    '2017-07-01 00:00:12'\n",
       "4    '2017-07-01 00:00:21'\n",
       "Name: '대여일시', dtype: object"
      ]
     },
     "execution_count": 17,
     "metadata": {},
     "output_type": "execute_result"
    }
   ],
   "source": [
    "rawdata_2017_3[\"'대여일시'\"].head()"
   ]
  },
  {
   "cell_type": "code",
   "execution_count": 43,
   "metadata": {},
   "outputs": [
    {
     "data": {
      "text/plain": [
       "'2017-07-01 00:00:02'"
      ]
     },
     "execution_count": 43,
     "metadata": {},
     "output_type": "execute_result"
    }
   ],
   "source": [
    "rawdata_2017_3[\"'대여일시'\"][0][1:-1] # 원본데이터 문자열에서 \"\"를 제거"
   ]
  },
  {
   "cell_type": "code",
   "execution_count": 47,
   "metadata": {},
   "outputs": [],
   "source": [
    "from datetime import datetime \n",
    "#https://docs.python.org/3/library/datetime.html#strftime-and-strptime-behavior\n",
    "#https://datascienceschool.net/view-notebook/465066ac92ef4da3b0aba32f76d9750a/\n",
    "\n",
    "string_date_time = []\n",
    "\n",
    "for i in range(len(rawdata_2017_3.index)):\n",
    "    string_date_time.append(datetime.strptime(rawdata_2017_3[\"'대여일시'\"][i][1:-1], \"%Y-%m-%d %H:%M:%S\"))"
   ]
  },
  {
   "cell_type": "code",
   "execution_count": 48,
   "metadata": {
    "collapsed": true
   },
   "outputs": [],
   "source": [
    "rawdata_2017_3[\"'대여일시(시간)'\"] = string_date_time"
   ]
  },
  {
   "cell_type": "code",
   "execution_count": 63,
   "metadata": {},
   "outputs": [
    {
     "data": {
      "text/plain": [
       "int"
      ]
     },
     "execution_count": 63,
     "metadata": {},
     "output_type": "execute_result"
    }
   ],
   "source": [
    "datetime.weekday(rawdata_2017_3[\"'대여일시(시간)'\"][0])"
   ]
  },
  {
   "cell_type": "code",
   "execution_count": 102,
   "metadata": {},
   "outputs": [],
   "source": [
    "# 대여일시(요일) 만들기\n",
    "###datetime.weekday() => {0:월, 1:화, 2:수, 3:목, 4:금, 5:토, 6:일}\n",
    "day = []\n",
    "\n",
    "for i in range(len(rawdata_2017_3[\"'대여일시(시간)'\"])):\n",
    "    n_day = -1\n",
    "    n_day = datetime.weekday(rawdata_2017_3[\"'대여일시(시간)'\"][i])\n",
    "    if n_day == 0:\n",
    "        day.append('월')\n",
    "    elif n_day == 1:\n",
    "        day.append('화')\n",
    "    elif n_day == 2:\n",
    "        day.append('수')\n",
    "    elif n_day == 3:\n",
    "        day.append('목')\n",
    "    elif n_day == 4:\n",
    "        day.append('금')\n",
    "    elif n_day == 5:\n",
    "        day.append('토')\n",
    "    elif n_day == 6:\n",
    "        day.append('일')\n",
    "    "
   ]
  },
  {
   "cell_type": "code",
   "execution_count": 75,
   "metadata": {},
   "outputs": [],
   "source": [
    "rawdata_2017_3[\"'대여일시(요일)'\"] = day"
   ]
  },
  {
   "cell_type": "code",
   "execution_count": 76,
   "metadata": {},
   "outputs": [
    {
     "data": {
      "text/html": [
       "<div>\n",
       "<style scoped>\n",
       "    .dataframe tbody tr th:only-of-type {\n",
       "        vertical-align: middle;\n",
       "    }\n",
       "\n",
       "    .dataframe tbody tr th {\n",
       "        vertical-align: top;\n",
       "    }\n",
       "\n",
       "    .dataframe thead th {\n",
       "        text-align: right;\n",
       "    }\n",
       "</style>\n",
       "<table border=\"1\" class=\"dataframe\">\n",
       "  <thead>\n",
       "    <tr style=\"text-align: right;\">\n",
       "      <th></th>\n",
       "      <th>'자전거번호'</th>\n",
       "      <th>'대여일시'</th>\n",
       "      <th>'대여대여소번호'</th>\n",
       "      <th>'대여대여소'</th>\n",
       "      <th>'대여거치대'</th>\n",
       "      <th>'반납일시'</th>\n",
       "      <th>'반납대여소번호'</th>\n",
       "      <th>'반납대여소'</th>\n",
       "      <th>'반납거치대'</th>\n",
       "      <th>'이용시간(분)'</th>\n",
       "      <th>'이용거리(M)'</th>\n",
       "      <th>'대여일시(시간)'</th>\n",
       "      <th>'대여일시(요일)'</th>\n",
       "    </tr>\n",
       "  </thead>\n",
       "  <tbody>\n",
       "    <tr>\n",
       "      <th>606537</th>\n",
       "      <td>'SPB-01692'</td>\n",
       "      <td>'2017-08-14 18:05:01'</td>\n",
       "      <td>'200'</td>\n",
       "      <td>' 국회의원회관'</td>\n",
       "      <td>5</td>\n",
       "      <td>'2017-08-14 18:31:24'</td>\n",
       "      <td>'259'</td>\n",
       "      <td>' 대방역6번출구'</td>\n",
       "      <td>4</td>\n",
       "      <td>26</td>\n",
       "      <td>2750</td>\n",
       "      <td>2017-08-14 18:05:01</td>\n",
       "      <td>월</td>\n",
       "    </tr>\n",
       "    <tr>\n",
       "      <th>1474669</th>\n",
       "      <td>'SPB-04260'</td>\n",
       "      <td>'2017-09-20 19:50:50'</td>\n",
       "      <td>'202'</td>\n",
       "      <td>' 국민일보 앞'</td>\n",
       "      <td>13</td>\n",
       "      <td>'2017-09-20 19:57:13'</td>\n",
       "      <td>'203'</td>\n",
       "      <td>' 국회의사당역 3번출구 옆'</td>\n",
       "      <td>2</td>\n",
       "      <td>6</td>\n",
       "      <td>710</td>\n",
       "      <td>2017-09-20 19:50:50</td>\n",
       "      <td>수</td>\n",
       "    </tr>\n",
       "    <tr>\n",
       "      <th>1193413</th>\n",
       "      <td>'SPB-07998'</td>\n",
       "      <td>'2017-09-11 18:38:19'</td>\n",
       "      <td>'253'</td>\n",
       "      <td>' 신풍역 5번출구 인근'</td>\n",
       "      <td>6</td>\n",
       "      <td>'2017-09-11 18:43:27'</td>\n",
       "      <td>'252'</td>\n",
       "      <td>' 보라매역4번출구'</td>\n",
       "      <td>4</td>\n",
       "      <td>4</td>\n",
       "      <td>1010</td>\n",
       "      <td>2017-09-11 18:38:19</td>\n",
       "      <td>월</td>\n",
       "    </tr>\n",
       "    <tr>\n",
       "      <th>1286518</th>\n",
       "      <td>'SPB-00488'</td>\n",
       "      <td>'2017-09-14 19:45:19'</td>\n",
       "      <td>'802'</td>\n",
       "      <td>' 한강진역 2번 출구 앞'</td>\n",
       "      <td>4</td>\n",
       "      <td>'2017-09-14 20:28:19'</td>\n",
       "      <td>'515'</td>\n",
       "      <td>' 광양중학교 앞'</td>\n",
       "      <td>1</td>\n",
       "      <td>42</td>\n",
       "      <td>12250</td>\n",
       "      <td>2017-09-14 19:45:19</td>\n",
       "      <td>목</td>\n",
       "    </tr>\n",
       "    <tr>\n",
       "      <th>1684965</th>\n",
       "      <td>'SPB-11828'</td>\n",
       "      <td>'2017-09-27 15:21:07'</td>\n",
       "      <td>'152'</td>\n",
       "      <td>' 마포구민체육센터 앞'</td>\n",
       "      <td>27</td>\n",
       "      <td>'2017-09-27 17:12:09'</td>\n",
       "      <td>'152'</td>\n",
       "      <td>' 마포구민체육센터 앞'</td>\n",
       "      <td>26</td>\n",
       "      <td>106</td>\n",
       "      <td>6620</td>\n",
       "      <td>2017-09-27 15:21:07</td>\n",
       "      <td>수</td>\n",
       "    </tr>\n",
       "  </tbody>\n",
       "</table>\n",
       "</div>"
      ],
      "text/plain": [
       "             '자전거번호'                 '대여일시' '대여대여소번호'          '대여대여소'  \\\n",
       "606537   'SPB-01692'  '2017-08-14 18:05:01'     '200'        ' 국회의원회관'   \n",
       "1474669  'SPB-04260'  '2017-09-20 19:50:50'     '202'        ' 국민일보 앞'   \n",
       "1193413  'SPB-07998'  '2017-09-11 18:38:19'     '253'   ' 신풍역 5번출구 인근'   \n",
       "1286518  'SPB-00488'  '2017-09-14 19:45:19'     '802'  ' 한강진역 2번 출구 앞'   \n",
       "1684965  'SPB-11828'  '2017-09-27 15:21:07'     '152'    ' 마포구민체육센터 앞'   \n",
       "\n",
       "         '대여거치대'                 '반납일시' '반납대여소번호'           '반납대여소'  '반납거치대'  \\\n",
       "606537         5  '2017-08-14 18:31:24'     '259'        ' 대방역6번출구'        4   \n",
       "1474669       13  '2017-09-20 19:57:13'     '203'  ' 국회의사당역 3번출구 옆'        2   \n",
       "1193413        6  '2017-09-11 18:43:27'     '252'       ' 보라매역4번출구'        4   \n",
       "1286518        4  '2017-09-14 20:28:19'     '515'        ' 광양중학교 앞'        1   \n",
       "1684965       27  '2017-09-27 17:12:09'     '152'     ' 마포구민체육센터 앞'       26   \n",
       "\n",
       "         '이용시간(분)'  '이용거리(M)'          '대여일시(시간)' '대여일시(요일)'  \n",
       "606537          26       2750 2017-08-14 18:05:01          월  \n",
       "1474669          6        710 2017-09-20 19:50:50          수  \n",
       "1193413          4       1010 2017-09-11 18:38:19          월  \n",
       "1286518         42      12250 2017-09-14 19:45:19          목  \n",
       "1684965        106       6620 2017-09-27 15:21:07          수  "
      ]
     },
     "execution_count": 76,
     "metadata": {},
     "output_type": "execute_result"
    }
   ],
   "source": [
    "rawdata_2017_3.sample(5)"
   ]
  },
  {
   "cell_type": "code",
   "execution_count": 84,
   "metadata": {},
   "outputs": [
    {
     "data": {
      "text/plain": [
       "<matplotlib.axes._subplots.AxesSubplot at 0x11f03db38>"
      ]
     },
     "execution_count": 84,
     "metadata": {},
     "output_type": "execute_result"
    },
    {
     "data": {
      "image/png": "[encoded data removed]",
      "text/plain": [
       "<Figure size 1080x576 with 1 Axes>"
      ]
     },
     "metadata": {},
     "output_type": "display_data"
    }
   ],
   "source": [
    "# 시각화\n",
    "rawdata_2017_3[\"'대여일시(요일)'\"].value_counts().plot(kind='bar', figsize=(15,8))"
   ]
  },
  {
   "cell_type": "code",
   "execution_count": null,
   "metadata": {
    "collapsed": true
   },
   "outputs": [],
   "source": []
  },
  {
   "cell_type": "markdown",
   "metadata": {},
   "source": [
    "## 2017년 4분기 데이터 "
   ]
  },
  {
   "cell_type": "code",
   "execution_count": 86,
   "metadata": {},
   "outputs": [
    {
     "data": {
      "text/html": [
       "<div>\n",
       "<style scoped>\n",
       "    .dataframe tbody tr th:only-of-type {\n",
       "        vertical-align: middle;\n",
       "    }\n",
       "\n",
       "    .dataframe tbody tr th {\n",
       "        vertical-align: top;\n",
       "    }\n",
       "\n",
       "    .dataframe thead th {\n",
       "        text-align: right;\n",
       "    }\n",
       "</style>\n",
       "<table border=\"1\" class=\"dataframe\">\n",
       "  <thead>\n",
       "    <tr style=\"text-align: right;\">\n",
       "      <th></th>\n",
       "      <th>'자전거번호'</th>\n",
       "      <th>'대여일시'</th>\n",
       "      <th>'대여대여소번호'</th>\n",
       "      <th>'대여대여소'</th>\n",
       "      <th>'대여거치대'</th>\n",
       "      <th>'반납일시'</th>\n",
       "      <th>'반납대여소번호'</th>\n",
       "      <th>'반납대여소'</th>\n",
       "      <th>'반납거치대'</th>\n",
       "      <th>'이용시간(분)'</th>\n",
       "      <th>'이용거리(M)'</th>\n",
       "    </tr>\n",
       "  </thead>\n",
       "  <tbody>\n",
       "    <tr>\n",
       "      <th>0</th>\n",
       "      <td>'SPB-00417'</td>\n",
       "      <td>'2017-10-01 00:00:00'</td>\n",
       "      <td>'1906'</td>\n",
       "      <td>' 신도림역 1번 출구 앞'</td>\n",
       "      <td>8</td>\n",
       "      <td>'2017-10-01 00:37:41'</td>\n",
       "      <td>'1943'</td>\n",
       "      <td>' 온수역 북측'</td>\n",
       "      <td>9</td>\n",
       "      <td>37</td>\n",
       "      <td>7170</td>\n",
       "    </tr>\n",
       "    <tr>\n",
       "      <th>1</th>\n",
       "      <td>'SPB-13183'</td>\n",
       "      <td>'2017-10-01 00:00:00'</td>\n",
       "      <td>'1433'</td>\n",
       "      <td>' 중화역 2번출구'</td>\n",
       "      <td>4</td>\n",
       "      <td>'2017-10-01 00:13:50'</td>\n",
       "      <td>'1416'</td>\n",
       "      <td>' 상봉역 3번출구'</td>\n",
       "      <td>3</td>\n",
       "      <td>12</td>\n",
       "      <td>1460</td>\n",
       "    </tr>\n",
       "    <tr>\n",
       "      <th>2</th>\n",
       "      <td>'SPB-03815'</td>\n",
       "      <td>'2017-10-01 00:00:01'</td>\n",
       "      <td>'2148'</td>\n",
       "      <td>' 낙성대역 3번출구 뒤'</td>\n",
       "      <td>10</td>\n",
       "      <td>'2017-10-01 00:27:43'</td>\n",
       "      <td>'2141'</td>\n",
       "      <td>' 미림여고입구 교차로'</td>\n",
       "      <td>11</td>\n",
       "      <td>27</td>\n",
       "      <td>5390</td>\n",
       "    </tr>\n",
       "    <tr>\n",
       "      <th>3</th>\n",
       "      <td>'SPB-04435'</td>\n",
       "      <td>'2017-10-01 00:00:05'</td>\n",
       "      <td>'567'</td>\n",
       "      <td>' 성수역 2번출구 앞'</td>\n",
       "      <td>11</td>\n",
       "      <td>'2017-10-01 00:16:01'</td>\n",
       "      <td>'505'</td>\n",
       "      <td>' 자양사거리 광진아크로텔 앞'</td>\n",
       "      <td>2</td>\n",
       "      <td>15</td>\n",
       "      <td>3130</td>\n",
       "    </tr>\n",
       "    <tr>\n",
       "      <th>4</th>\n",
       "      <td>'SPB-05328'</td>\n",
       "      <td>'2017-10-01 00:00:06'</td>\n",
       "      <td>'106'</td>\n",
       "      <td>' 합정역 7번출구 앞'</td>\n",
       "      <td>1</td>\n",
       "      <td>'2017-10-01 00:29:01'</td>\n",
       "      <td>'145'</td>\n",
       "      <td>' 공덕역 5번출구'</td>\n",
       "      <td>1</td>\n",
       "      <td>28</td>\n",
       "      <td>3940</td>\n",
       "    </tr>\n",
       "  </tbody>\n",
       "</table>\n",
       "</div>"
      ],
      "text/plain": [
       "       '자전거번호'                 '대여일시' '대여대여소번호'          '대여대여소'  '대여거치대'  \\\n",
       "0  'SPB-00417'  '2017-10-01 00:00:00'    '1906'  ' 신도림역 1번 출구 앞'        8   \n",
       "1  'SPB-13183'  '2017-10-01 00:00:00'    '1433'      ' 중화역 2번출구'        4   \n",
       "2  'SPB-03815'  '2017-10-01 00:00:01'    '2148'   ' 낙성대역 3번출구 뒤'       10   \n",
       "3  'SPB-04435'  '2017-10-01 00:00:05'     '567'    ' 성수역 2번출구 앞'       11   \n",
       "4  'SPB-05328'  '2017-10-01 00:00:06'     '106'    ' 합정역 7번출구 앞'        1   \n",
       "\n",
       "                  '반납일시' '반납대여소번호'            '반납대여소'  '반납거치대'  '이용시간(분)'  \\\n",
       "0  '2017-10-01 00:37:41'    '1943'          ' 온수역 북측'        9         37   \n",
       "1  '2017-10-01 00:13:50'    '1416'        ' 상봉역 3번출구'        3         12   \n",
       "2  '2017-10-01 00:27:43'    '2141'      ' 미림여고입구 교차로'       11         27   \n",
       "3  '2017-10-01 00:16:01'     '505'  ' 자양사거리 광진아크로텔 앞'        2         15   \n",
       "4  '2017-10-01 00:29:01'     '145'        ' 공덕역 5번출구'        1         28   \n",
       "\n",
       "   '이용거리(M)'  \n",
       "0       7170  \n",
       "1       1460  \n",
       "2       5390  \n",
       "3       3130  \n",
       "4       3940  "
      ]
     },
     "execution_count": 86,
     "metadata": {},
     "output_type": "execute_result"
    }
   ],
   "source": [
    "rawdata_2017_4_1 = pd.read_csv(\"data/서울특별시 공공자전거 대여이력 정보_2017년_4분기_1.csv\", encoding = 'euc-kr')\n",
    "rawdata_2017_4_2 = pd.read_csv(\"data/서울특별시 공공자전거 대여이력 정보_2017년_4분기_2.csv\", encoding = 'euc-kr')\n",
    "rawdata_2017_4 = pd.concat([rawdata_2017_4_1, rawdata_2017_4_2], ignore_index=True)\n",
    "rawdata_2017_4.head()"
   ]
  },
  {
   "cell_type": "code",
   "execution_count": 87,
   "metadata": {},
   "outputs": [
    {
     "data": {
      "text/plain": [
       "'자전거번호'      0\n",
       "'대여일시'       0\n",
       "'대여대여소번호'    0\n",
       "'대여대여소'      0\n",
       "'대여거치대'      0\n",
       "'반납일시'       0\n",
       "'반납대여소번호'    0\n",
       "'반납대여소'      0\n",
       "'반납거치대'      0\n",
       "'이용시간(분)'    0\n",
       "'이용거리(M)'    0\n",
       "dtype: int64"
      ]
     },
     "execution_count": 87,
     "metadata": {},
     "output_type": "execute_result"
    }
   ],
   "source": [
    "#데이터 null값 : 결측치\n",
    "rawdata_2017_4.isnull().sum()"
   ]
  },
  {
   "cell_type": "code",
   "execution_count": 88,
   "metadata": {},
   "outputs": [
    {
     "data": {
      "text/plain": [
       "count   $1.5e+06\n",
       "mean         $27\n",
       "std          $29\n",
       "min           $2\n",
       "25%           $8\n",
       "50%          $16\n",
       "75%          $36\n",
       "max     $2.6e+03\n",
       "Name: '이용시간(분)', dtype: float64"
      ]
     },
     "execution_count": 88,
     "metadata": {},
     "output_type": "execute_result"
    }
   ],
   "source": [
    "## pandas 출력 포맷팅\n",
    "rawdata_2017_4[\"'이용시간(분)'\"].describe()"
   ]
  },
  {
   "cell_type": "code",
   "execution_count": 89,
   "metadata": {},
   "outputs": [
    {
     "data": {
      "text/plain": [
       "<matplotlib.axes._subplots.AxesSubplot at 0x156ffb550>"
      ]
     },
     "execution_count": 89,
     "metadata": {},
     "output_type": "execute_result"
    },
    {
     "data": {
      "image/png": "[encoded data removed]",
      "text/plain": [
       "<Figure size 576x1440 with 1 Axes>"
      ]
     },
     "metadata": {},
     "output_type": "display_data"
    }
   ],
   "source": [
    "# 이상치 확인\n",
    "rawdata_2017_4[\"'이용시간(분)'\"].plot(kind = 'box', figsize = (8,20)) ## ??"
   ]
  },
  {
   "cell_type": "code",
   "execution_count": 92,
   "metadata": {},
   "outputs": [],
   "source": [
    "rawdata_2017_4[\"'이용시간(분대)'\"] = rawdata_2017_3[\"'이용시간(분)'\"].apply(시간대생성)"
   ]
  },
  {
   "cell_type": "code",
   "execution_count": 93,
   "metadata": {},
   "outputs": [
    {
     "data": {
      "text/plain": [
       "0분대       416561\n",
       "10분대      352281\n",
       "20분대      198531\n",
       "30분대      139855\n",
       "40분대      120308\n",
       "50분대      105173\n",
       "60분대       41386\n",
       "70분대       31334\n",
       "80분대       28226\n",
       "2시간 이상     24921\n",
       "90분대       24758\n",
       "100분대      23332\n",
       "110분대      18460\n",
       "Name: '이용시간(분대)', dtype: int64"
      ]
     },
     "execution_count": 93,
     "metadata": {},
     "output_type": "execute_result"
    }
   ],
   "source": [
    "rawdata_2017_4[\"'이용시간(분대)'\"].value_counts()"
   ]
  },
  {
   "cell_type": "code",
   "execution_count": 94,
   "metadata": {},
   "outputs": [
    {
     "data": {
      "text/plain": [
       "<matplotlib.axes._subplots.AxesSubplot at 0x11f570630>"
      ]
     },
     "execution_count": 94,
     "metadata": {},
     "output_type": "execute_result"
    },
    {
     "data": {
      "image/png": "[encoded data removed]",
      "text/plain": [
       "<Figure size 1080x576 with 1 Axes>"
      ]
     },
     "metadata": {},
     "output_type": "display_data"
    }
   ],
   "source": [
    "rawdata_2017_4[\"'이용시간(분대)'\"].value_counts().plot(kind = 'bar', figsize = (15,8))"
   ]
  },
  {
   "cell_type": "markdown",
   "metadata": {},
   "source": [
    "##### 많이 빌린 대여소 TOP20"
   ]
  },
  {
   "cell_type": "code",
   "execution_count": 95,
   "metadata": {},
   "outputs": [
    {
     "data": {
      "text/html": [
       "<div>\n",
       "<style scoped>\n",
       "    .dataframe tbody tr th:only-of-type {\n",
       "        vertical-align: middle;\n",
       "    }\n",
       "\n",
       "    .dataframe tbody tr th {\n",
       "        vertical-align: top;\n",
       "    }\n",
       "\n",
       "    .dataframe thead th {\n",
       "        text-align: right;\n",
       "    }\n",
       "</style>\n",
       "<table border=\"1\" class=\"dataframe\">\n",
       "  <thead>\n",
       "    <tr style=\"text-align: right;\">\n",
       "      <th></th>\n",
       "      <th>'반납일시'</th>\n",
       "    </tr>\n",
       "    <tr>\n",
       "      <th>'대여대여소'</th>\n",
       "      <th></th>\n",
       "    </tr>\n",
       "  </thead>\n",
       "  <tbody>\n",
       "    <tr>\n",
       "      <th>' 홍대입구역 2번출구 앞'</th>\n",
       "      <td>11584</td>\n",
       "    </tr>\n",
       "    <tr>\n",
       "      <th>' 여의나루역 1번출구 앞'</th>\n",
       "      <td>11171</td>\n",
       "    </tr>\n",
       "    <tr>\n",
       "      <th>' 롯데월드타워(잠실역2번출구 쪽)'</th>\n",
       "      <td>8210</td>\n",
       "    </tr>\n",
       "    <tr>\n",
       "      <th>' 뚝섬유원지역 1번출구 앞'</th>\n",
       "      <td>7548</td>\n",
       "    </tr>\n",
       "    <tr>\n",
       "      <th>' 봉림교 교통섬'</th>\n",
       "      <td>7136</td>\n",
       "    </tr>\n",
       "    <tr>\n",
       "      <th>' 성대입구 사거리'</th>\n",
       "      <td>6217</td>\n",
       "    </tr>\n",
       "    <tr>\n",
       "      <th>' 신도림역 1번 출구 앞'</th>\n",
       "      <td>6063</td>\n",
       "    </tr>\n",
       "    <tr>\n",
       "      <th>' 고속터미널역 8-1번, 8-2번 출구 사이'</th>\n",
       "      <td>5895</td>\n",
       "    </tr>\n",
       "    <tr>\n",
       "      <th>' 군자역 7번출구 베스트샵 앞'</th>\n",
       "      <td>5894</td>\n",
       "    </tr>\n",
       "    <tr>\n",
       "      <th>' 안암로터리 버스정류장 앞'</th>\n",
       "      <td>5765</td>\n",
       "    </tr>\n",
       "    <tr>\n",
       "      <th>' 오목교역 7번출구 앞'</th>\n",
       "      <td>5426</td>\n",
       "    </tr>\n",
       "    <tr>\n",
       "      <th>' 마포구민체육센터 앞'</th>\n",
       "      <td>5361</td>\n",
       "    </tr>\n",
       "    <tr>\n",
       "      <th>' 대방역6번출구'</th>\n",
       "      <td>5039</td>\n",
       "    </tr>\n",
       "    <tr>\n",
       "      <th>' 홈플러스 앞'</th>\n",
       "      <td>5030</td>\n",
       "    </tr>\n",
       "    <tr>\n",
       "      <th>' 합정역 7번출구 앞'</th>\n",
       "      <td>4971</td>\n",
       "    </tr>\n",
       "    <tr>\n",
       "      <th>' 당산역 10번출구 앞'</th>\n",
       "      <td>4939</td>\n",
       "    </tr>\n",
       "    <tr>\n",
       "      <th>' CJ 드림시티'</th>\n",
       "      <td>4854</td>\n",
       "    </tr>\n",
       "    <tr>\n",
       "      <th>' 망원역 1번출구 앞'</th>\n",
       "      <td>4822</td>\n",
       "    </tr>\n",
       "    <tr>\n",
       "      <th>' 홍대입구역 8번출구 앞'</th>\n",
       "      <td>4822</td>\n",
       "    </tr>\n",
       "    <tr>\n",
       "      <th>' DMC역 9번출구 앞'</th>\n",
       "      <td>4750</td>\n",
       "    </tr>\n",
       "  </tbody>\n",
       "</table>\n",
       "</div>"
      ],
      "text/plain": [
       "                            '반납일시'\n",
       "'대여대여소'                           \n",
       "' 홍대입구역 2번출구 앞'              11584\n",
       "' 여의나루역 1번출구 앞'              11171\n",
       "' 롯데월드타워(잠실역2번출구 쪽)'          8210\n",
       "' 뚝섬유원지역 1번출구 앞'              7548\n",
       "' 봉림교 교통섬'                    7136\n",
       "' 성대입구 사거리'                   6217\n",
       "' 신도림역 1번 출구 앞'               6063\n",
       "' 고속터미널역 8-1번, 8-2번 출구 사이'    5895\n",
       "' 군자역 7번출구 베스트샵 앞'            5894\n",
       "' 안암로터리 버스정류장 앞'              5765\n",
       "' 오목교역 7번출구 앞'                5426\n",
       "' 마포구민체육센터 앞'                 5361\n",
       "' 대방역6번출구'                    5039\n",
       "' 홈플러스 앞'                     5030\n",
       "' 합정역 7번출구 앞'                 4971\n",
       "' 당산역 10번출구 앞'                4939\n",
       "' CJ 드림시티'                    4854\n",
       "' 망원역 1번출구 앞'                 4822\n",
       "' 홍대입구역 8번출구 앞'               4822\n",
       "' DMC역 9번출구 앞'                4750"
      ]
     },
     "execution_count": 95,
     "metadata": {},
     "output_type": "execute_result"
    }
   ],
   "source": [
    "rawdata_2017_4.pivot_table(index = \"'대여대여소'\", values = \"'반납일시'\", aggfunc = 'count').sort_values(by = \"'반납일시'\", ascending = False).head(20)"
   ]
  },
  {
   "cell_type": "markdown",
   "metadata": {},
   "source": [
    "##### 대여일시(요일) 변수 추가"
   ]
  },
  {
   "cell_type": "code",
   "execution_count": 96,
   "metadata": {},
   "outputs": [
    {
     "data": {
      "text/plain": [
       "'2017-10-01 00:00:00'"
      ]
     },
     "execution_count": 96,
     "metadata": {},
     "output_type": "execute_result"
    }
   ],
   "source": [
    "rawdata_2017_4[\"'대여일시'\"][0][1:-1]"
   ]
  },
  {
   "cell_type": "code",
   "execution_count": 97,
   "metadata": {
    "collapsed": true
   },
   "outputs": [],
   "source": [
    "string_date_time2 = []\n",
    "\n",
    "for i in range(len(rawdata_2017_4.index)):\n",
    "    string_date_time2.append(datetime.strptime(rawdata_2017_4[\"'대여일시'\"][i][1:-1], \"%Y-%m-%d %H:%M:%S\"))"
   ]
  },
  {
   "cell_type": "code",
   "execution_count": 98,
   "metadata": {
    "collapsed": true
   },
   "outputs": [],
   "source": [
    "rawdata_2017_4[\"'대여일시(시간)'\"] = string_date_time2"
   ]
  },
  {
   "cell_type": "code",
   "execution_count": 103,
   "metadata": {
    "collapsed": true
   },
   "outputs": [],
   "source": [
    "# 대여일시(요일) 만들기\n",
    "###datetime.weekday() => {0:월, 1:화, 2:수, 3:목, 4:금, 5:토, 6:일}\n",
    "day2 = []\n",
    "\n",
    "for i in range(len(rawdata_2017_4[\"'대여일시(시간)'\"])):\n",
    "    n_day = -1\n",
    "    n_day = datetime.weekday(rawdata_2017_4[\"'대여일시(시간)'\"][i])\n",
    "    if n_day == 0:\n",
    "        day2.append('월')\n",
    "    elif n_day == 1:\n",
    "        day2.append('화')\n",
    "    elif n_day == 2:\n",
    "        day2.append('수')\n",
    "    elif n_day == 3:\n",
    "        day2.append('목')\n",
    "    elif n_day == 4:\n",
    "        day2.append('금')\n",
    "    elif n_day == 5:\n",
    "        day2.append('토')\n",
    "    elif n_day == 6:\n",
    "        day2.append('일')"
   ]
  },
  {
   "cell_type": "code",
   "execution_count": 104,
   "metadata": {},
   "outputs": [
    {
     "data": {
      "text/plain": [
       "1525126"
      ]
     },
     "execution_count": 104,
     "metadata": {},
     "output_type": "execute_result"
    }
   ],
   "source": [
    "len(day2)"
   ]
  },
  {
   "cell_type": "code",
   "execution_count": 105,
   "metadata": {},
   "outputs": [],
   "source": [
    "rawdata_2017_4[\"'대여일시(요일)'\"] = day2"
   ]
  },
  {
   "cell_type": "code",
   "execution_count": 107,
   "metadata": {},
   "outputs": [
    {
     "data": {
      "text/plain": [
       "<matplotlib.axes._subplots.AxesSubplot at 0x131894898>"
      ]
     },
     "execution_count": 107,
     "metadata": {},
     "output_type": "execute_result"
    },
    {
     "data": {
      "image/png": "[encoded data removed]",
      "text/plain": [
       "<Figure size 1080x576 with 1 Axes>"
      ]
     },
     "metadata": {},
     "output_type": "display_data"
    }
   ],
   "source": [
    "rawdata_2017_4[\"'대여일시(요일)'\"].value_counts().plot(kind = 'bar', figsize = (15,8))"
   ]
  },
  {
   "cell_type": "markdown",
   "metadata": {},
   "source": [
    "## 팀모의 "
   ]
  },
  {
   "cell_type": "code",
   "execution_count": 108,
   "metadata": {},
   "outputs": [
    {
     "data": {
      "text/plain": [
       "Index([''자전거번호'', ''대여일시'', ''대여대여소번호'', ''대여대여소'', ''대여거치대'', ''반납일시'',\n",
       "       ''반납대여소번호'', ''반납대여소'', ''반납거치대'', ''이용시간(분)'', ''이용거리(M)'',\n",
       "       ''이용시간(분대)'', ''대여일시(시간)'', ''대여일시(요일)''],\n",
       "      dtype='object')"
      ]
     },
     "execution_count": 108,
     "metadata": {},
     "output_type": "execute_result"
    }
   ],
   "source": [
    "rawdata_2017_4.columns"
   ]
  },
  {
   "cell_type": "code",
   "execution_count": null,
   "metadata": {
    "collapsed": true
   },
   "outputs": [],
   "source": []
  },
  {
   "cell_type": "code",
   "execution_count": 110,
   "metadata": {},
   "outputs": [
    {
     "ename": "AttributeError",
     "evalue": "module 'matplotlib' has no attribute 'scatter'",
     "output_type": "error",
     "traceback": [
      "\u001b[0;31m---------------------------------------------------------------------------\u001b[0m",
      "\u001b[0;31mAttributeError\u001b[0m                            Traceback (most recent call last)",
      "\u001b[0;32m<ipython-input-110-7d7bfa81684e>\u001b[0m in \u001b[0;36m<module>\u001b[0;34m()\u001b[0m\n\u001b[0;32m----> 1\u001b[0;31m \u001b[0mplt\u001b[0m\u001b[0;34m.\u001b[0m\u001b[0mscatter\u001b[0m\u001b[0;34m(\u001b[0m\u001b[0mrawdata_2017_4\u001b[0m\u001b[0;34m[\u001b[0m\u001b[0;34m\"'이용시간(분)'\"\u001b[0m\u001b[0;34m]\u001b[0m\u001b[0;34m,\u001b[0m \u001b[0mrawdata_2017_4\u001b[0m\u001b[0;34m[\u001b[0m\u001b[0;34m\"'이용거리(M)'\"\u001b[0m\u001b[0;34m]\u001b[0m\u001b[0;34m)\u001b[0m\u001b[0;34m\u001b[0m\u001b[0m\n\u001b[0m",
      "\u001b[0;31mAttributeError\u001b[0m: module 'matplotlib' has no attribute 'scatter'"
     ]
    }
   ],
   "source": [
    "# 산점도 그리기 - 이용시간랑 이용거리\n",
    "plt.rawdata_2017_4[\"'이용시간(분)'\"], rawdata_2017_4[\"'이용거리(M)'\"])"
   ]
  },
  {
   "cell_type": "code",
   "execution_count": null,
   "metadata": {
    "collapsed": true
   },
   "outputs": [],
   "source": []
  },
  {
   "cell_type": "code",
   "execution_count": null,
   "metadata": {
    "collapsed": true
   },
   "outputs": [],
   "source": []
  },
  {
   "cell_type": "code",
   "execution_count": null,
   "metadata": {
    "collapsed": true
   },
   "outputs": [],
   "source": []
  },
  {
   "cell_type": "code",
   "execution_count": null,
   "metadata": {
    "collapsed": true
   },
   "outputs": [],
   "source": []
  },
  {
   "cell_type": "code",
   "execution_count": null,
   "metadata": {
    "collapsed": true
   },
   "outputs": [],
   "source": []
  },
  {
   "cell_type": "code",
   "execution_count": null,
   "metadata": {
    "collapsed": true
   },
   "outputs": [],
   "source": []
  },
  {
   "cell_type": "code",
   "execution_count": null,
   "metadata": {
    "collapsed": true
   },
   "outputs": [],
   "source": []
  },
  {
   "cell_type": "code",
   "execution_count": null,
   "metadata": {
    "collapsed": true
   },
   "outputs": [],
   "source": []
  },
  {
   "cell_type": "code",
   "execution_count": null,
   "metadata": {
    "collapsed": true
   },
   "outputs": [],
   "source": []
  },
  {
   "cell_type": "code",
   "execution_count": null,
   "metadata": {
    "collapsed": true
   },
   "outputs": [],
   "source": []
  },
  {
   "cell_type": "code",
   "execution_count": null,
   "metadata": {
    "collapsed": true
   },
   "outputs": [],
   "source": []
  }
 ],
 "metadata": {
  "kernelspec": {
   "display_name": "Python 3",
   "language": "python",
   "name": "python3"
  },
  "language_info": {
   "codemirror_mode": {
    "name": "ipython",
    "version": 3
   },
   "file_extension": ".py",
   "mimetype": "text/x-python",
   "name": "python",
   "nbconvert_exporter": "python",
   "pygments_lexer": "ipython3",
   "version": "3.6.5"
  }
 },
 "nbformat": 4,
 "nbformat_minor": 2
}
